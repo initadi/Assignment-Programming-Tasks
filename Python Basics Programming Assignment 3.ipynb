{
 "cells": [
  {
   "cell_type": "markdown",
   "id": "15873bfa-b4ca-44bd-9ae0-5fce42e97beb",
   "metadata": {},
   "source": [
    "## Python Basics Programming Assignment-\n",
    "1. Write a Python Program to Check if a Number is Positive, Negative or Zero?\n",
    "2. Write a Python Program to Check if a Number is Odd or Even?\n",
    "3. Write a Python Program to Check Leap Year?\n",
    "4. Write a Python Program to Check Prime Number?\n",
    "5. Write a Python Program to Print all Prime Numbers in an Interval of 1-10000?"
   ]
  },
  {
   "cell_type": "markdown",
   "id": "88a87010-6252-4c42-971b-bd696a0ec623",
   "metadata": {},
   "source": [
    "1. Write a Python Program to Check if a Number is Positive, Negative or Zero?"
   ]
  },
  {
   "cell_type": "code",
   "execution_count": 1,
   "id": "5172330f-ed32-4c2b-af89-e4d88e43ebaa",
   "metadata": {},
   "outputs": [
    {
     "name": "stdin",
     "output_type": "stream",
     "text": [
      "Enter the number only: \n"
     ]
    },
    {
     "name": "stdout",
     "output_type": "stream",
     "text": [
      "Error:You have not entered number but something else\n"
     ]
    }
   ],
   "source": [
    "def check_num():\n",
    "    try:\n",
    "\n",
    "        num = float(input(\"Enter the number only:\"))\n",
    "        if num >= 0:\n",
    "            if num == 0:\n",
    "                print(\"Entered number is 0\")\n",
    "            else:\n",
    "                print(\"Entered number is positive\")\n",
    "        elif num<0:\n",
    "            print(\"Entered number is negative\")\n",
    "    except:\n",
    "        print(\"Error:You have not entered number but something else\")\n",
    "\n",
    "check_num()"
   ]
  },
  {
   "cell_type": "markdown",
   "id": "13bbef14-59e6-4022-a965-4437f21c54fc",
   "metadata": {},
   "source": [
    "2. Write a Python Program to Check if a Number is Odd or Even?"
   ]
  },
  {
   "cell_type": "code",
   "execution_count": 2,
   "id": "4ecb2236-68ee-4372-9f7f-78d8fd459a18",
   "metadata": {},
   "outputs": [
    {
     "name": "stdin",
     "output_type": "stream",
     "text": [
      "Enter the number only: 21\n"
     ]
    },
    {
     "name": "stdout",
     "output_type": "stream",
     "text": [
      "Entered number is odd\n"
     ]
    }
   ],
   "source": [
    "def odd_even():\n",
    "    try:\n",
    "\n",
    "        num = float(input(\"Enter the number only:\"))\n",
    "        if num%2 == 0:\n",
    "            print(\"Entered number is Even\")\n",
    "        else:\n",
    "            print(\"Entered number is odd\")\n",
    "    except:\n",
    "        print(\"Error:You have not entered number but something else\")\n",
    "\n",
    "odd_even()\n",
    "        "
   ]
  },
  {
   "cell_type": "markdown",
   "id": "b63c167f-8928-4d08-90bb-b5ebcae35d40",
   "metadata": {},
   "source": [
    "3. Write a Python Program to Check Leap Year?"
   ]
  },
  {
   "cell_type": "code",
   "execution_count": 3,
   "id": "fb3c56ab-6ae7-49ae-9c56-fadf6e53b63a",
   "metadata": {},
   "outputs": [
    {
     "name": "stdin",
     "output_type": "stream",
     "text": [
      "Enter year: 2024\n",
      "Enter month: 02\n"
     ]
    },
    {
     "name": "stdout",
     "output_type": "stream",
     "text": [
      "Its a leap year\n",
      "   February 2024\n",
      "Mo Tu We Th Fr Sa Su\n",
      "          1  2  3  4\n",
      " 5  6  7  8  9 10 11\n",
      "12 13 14 15 16 17 18\n",
      "19 20 21 22 23 24 25\n",
      "26 27 28 29\n",
      "\n"
     ]
    }
   ],
   "source": [
    "#Counting the number of total days\n",
    "#Dividing by 4\n",
    "#Print the Feb days for cross verification\n",
    "\n",
    "try:\n",
    "    Year = int(input(\"Enter year:\"))\n",
    "    Month=int(input(\"Enter month:\"))\n",
    "\n",
    "    if (Year%4 == 0) and Month == 2:\n",
    "        print(\"Its a leap year\")\n",
    "    elif (Year%4 == 0) and Month != 2:\n",
    "        print(\"The entered month is not Feb. Kindly enter month as 02 or 2 to check the number of days in Feb to qualify the year as leap\")\n",
    "    else:\n",
    "        print(\"Its not a leap year\")\n",
    "except:\n",
    "    print(\"Error\")\n",
    "import calendar\n",
    "print(calendar.month(Year, Month))\n",
    "\n"
   ]
  },
  {
   "cell_type": "markdown",
   "id": "dc0546eb-8562-453a-8842-749423ba5ffb",
   "metadata": {},
   "source": [
    "4. Write a Python Program to Check Prime Number?"
   ]
  },
  {
   "cell_type": "code",
   "execution_count": 4,
   "id": "f0d27d79-d5e8-4ec5-b8c7-0e15e443c110",
   "metadata": {},
   "outputs": [
    {
     "name": "stdin",
     "output_type": "stream",
     "text": [
      "Enter the number:  21\n"
     ]
    },
    {
     "name": "stdout",
     "output_type": "stream",
     "text": [
      "21 is not a prime number\n",
      "3 times 7 is 21\n"
     ]
    }
   ],
   "source": [
    "num = int(input(\"Enter the number: \"))\n",
    "\n",
    "if num > 1:\n",
    "# check for factors\n",
    "    for i in range(2,num):\n",
    "        if (num % i) == 0:\n",
    "            print(num,\"is not a prime number\")\n",
    "            print(i,\"times\",num//i,\"is\",num)\n",
    "            break\n",
    "    else:\n",
    "        print(num,\"is a prime number\")\n",
    "# if input number is less than\n",
    "# or equal to 1, it is not prime\n",
    "else:\n",
    "        print(num,\"It is not a prime number\")\n"
   ]
  },
  {
   "cell_type": "markdown",
   "id": "de169cad-f7ce-48a8-a88b-0e3ab3ee5bbe",
   "metadata": {},
   "source": [
    "5. Write a Python Program to Print all Prime Numbers in an Interval of 1-10000?"
   ]
  },
  {
   "cell_type": "code",
   "execution_count": 5,
   "id": "b9f98976-e573-46dd-8d2b-4c66e0173d34",
   "metadata": {},
   "outputs": [
    {
     "name": "stdout",
     "output_type": "stream",
     "text": [
      "Prime numbers between 1 and 100 are:\n",
      "2\n",
      "3\n",
      "5\n",
      "7\n",
      "11\n",
      "13\n",
      "17\n",
      "19\n",
      "23\n",
      "29\n",
      "31\n",
      "37\n",
      "41\n",
      "43\n",
      "47\n",
      "53\n",
      "59\n",
      "61\n",
      "67\n",
      "71\n",
      "73\n",
      "79\n",
      "83\n",
      "89\n",
      "97\n"
     ]
    }
   ],
   "source": [
    "# Python program to display all the prime numbers within an interval\n",
    "\n",
    "lower = 1\n",
    "upper = 100\n",
    "\n",
    "print(\"Prime numbers between\", lower, \"and\", upper, \"are:\")\n",
    "\n",
    "for num in range(lower, upper + 1):\n",
    "   # all prime numbers are greater than 1\n",
    "   if num > 1:\n",
    "       for i in range(2, num):\n",
    "           if (num % i) == 0:\n",
    "               break\n",
    "       else:\n",
    "           print(num)"
   ]
  }
 ],
 "metadata": {
  "kernelspec": {
   "display_name": "Python 3 (ipykernel)",
   "language": "python",
   "name": "python3"
  },
  "language_info": {
   "codemirror_mode": {
    "name": "ipython",
    "version": 3
   },
   "file_extension": ".py",
   "mimetype": "text/x-python",
   "name": "python",
   "nbconvert_exporter": "python",
   "pygments_lexer": "ipython3",
   "version": "3.10.6"
  }
 },
 "nbformat": 4,
 "nbformat_minor": 5
}
