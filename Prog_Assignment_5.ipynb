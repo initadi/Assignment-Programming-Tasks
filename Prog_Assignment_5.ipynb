{
 "cells": [
  {
   "cell_type": "markdown",
   "id": "4e9a1a0e-3333-4bdb-a55b-7a7462a4b53e",
   "metadata": {},
   "source": [
    "#### Write a program to find the LCM"
   ]
  },
  {
   "cell_type": "code",
   "execution_count": 18,
   "id": "83675e1d-13e5-4632-b0ff-14bcabf12356",
   "metadata": {},
   "outputs": [
    {
     "name": "stdout",
     "output_type": "stream",
     "text": [
      "1\n",
      "5\n",
      "LCM of 20 and 25 is: 100.0\n"
     ]
    }
   ],
   "source": [
    "x = 20\n",
    "y = 25\n",
    "if x > y:\n",
    "    x, y = y, x\n",
    "for i in range(1,x+1):\n",
    "    if x%i == 0 and y%i == 0:\n",
    "        gcd = i\n",
    "        print(gcd)\n",
    "\n",
    "lcm = (x*y)/gcd\n",
    "\n",
    "print(\"LCM of\", x, \"and\", y, \"is:\", lcm)"
   ]
  },
  {
   "cell_type": "code",
   "execution_count": 22,
   "id": "db60639e-f4a1-4506-9e8a-31a2b2bd7405",
   "metadata": {},
   "outputs": [
    {
     "name": "stdout",
     "output_type": "stream",
     "text": [
      "LCM of 20 and 25 is: 100.0\n"
     ]
    }
   ],
   "source": [
    "p = x = 20\n",
    "q = y = 25\n",
    "while x != y:\n",
    "      if x > y:\n",
    "        x = x - y\n",
    "      else:\n",
    "        y = y - x\n",
    "\n",
    "lcm = (p*q)/x\n",
    "\n",
    "print(\"LCM of\", p, \"and\", q, \"is:\", lcm)"
   ]
  },
  {
   "cell_type": "code",
   "execution_count": 3,
   "id": "6281edab-9be8-49a1-a99e-5fe32506e823",
   "metadata": {},
   "outputs": [
    {
     "name": "stdout",
     "output_type": "stream",
     "text": [
      "LCM of 30 and 40 is: 120.0\n"
     ]
    }
   ],
   "source": [
    "def gcd(x, y):\n",
    "  if y == 0:\n",
    "    return x\n",
    "  return gcd(y, x%y)\n",
    "\n",
    "x = 30\n",
    "y = 40\n",
    "\n",
    "lcm = (x*y)/gcd(x,y)\n",
    "\n",
    "print(\"LCM of\", x, \"and\", y, \"is:\", lcm)"
   ]
  },
  {
   "cell_type": "markdown",
   "id": "2da8b16f-9f4e-4756-a6ff-0a4645eb0ac7",
   "metadata": {},
   "source": [
    "Write a program to find the HCF?"
   ]
  },
  {
   "cell_type": "code",
   "execution_count": 5,
   "id": "cabbb385-ab39-44a1-88c7-278bdab2ce6f",
   "metadata": {},
   "outputs": [
    {
     "name": "stdout",
     "output_type": "stream",
     "text": [
      "Hcf of 36 and 60 is 12\n"
     ]
    }
   ],
   "source": [
    "#Linear Quest\n",
    "num1 = 36\n",
    "num2 = 60\n",
    "hcf = 1\n",
    "\n",
    "for i in range(1, min(num1, num2)):\n",
    "    if num1 % i == 0 and num2 % i == 0:\n",
    "        hcf = i\n",
    "print(\"Hcf of\", num1, \"and\", num2, \"is\", hcf)"
   ]
  },
  {
   "cell_type": "code",
   "execution_count": 6,
   "id": "99be52ae-37c0-4077-b843-76dde072ecc5",
   "metadata": {},
   "outputs": [
    {
     "name": "stdout",
     "output_type": "stream",
     "text": [
      "Hcf of 36 and 60 is 12\n"
     ]
    }
   ],
   "source": [
    "#Repeated Subtraction\n",
    "num1 = 36\n",
    "num2 = 60\n",
    "a = num1\n",
    "b = num2\n",
    "\n",
    "while num1 != num2:\n",
    "    if num1 > num2:\n",
    "        num1 -= num2\n",
    "    else:\n",
    "        num2 -= num1\n",
    "\n",
    "print(\"Hcf of\", a, \"and\", b, \"is\", num1)"
   ]
  },
  {
   "cell_type": "code",
   "execution_count": 7,
   "id": "95404307-65fb-4c49-8ce5-e3d18ff252f0",
   "metadata": {},
   "outputs": [
    {
     "name": "stdout",
     "output_type": "stream",
     "text": [
      "Hcf of 36 and 60 is 12\n"
     ]
    }
   ],
   "source": [
    "# Recursive function to return HCF of two number\n",
    "def findHCF(num1, num2):\n",
    "    \n",
    "    # Everything divides 0\n",
    "    if num1 == 0 or num2 == 0:\n",
    "        return num1 + num2\n",
    "    \n",
    "    # base case\n",
    "    if num1 == num2:\n",
    "        return num1\n",
    "    \n",
    "    # num1>num2\n",
    "    if num1 > num2:\n",
    "        return findHCF(num1 - num2, num2)\n",
    "    else:\n",
    "        return findHCF(num1, num2 - num1)\n",
    "\n",
    "\n",
    "num1 = 36\n",
    "num2 = 60\n",
    "\n",
    "print(\"Hcf of\", num1, \"and\", num2, \"is\", findHCF(num1, num2))"
   ]
  },
  {
   "cell_type": "code",
   "execution_count": 8,
   "id": "d4950513-ca26-4e8b-825c-e4b1bdf1fe80",
   "metadata": {},
   "outputs": [
    {
     "name": "stdout",
     "output_type": "stream",
     "text": [
      "Hcf of -36 and 60 is 12\n"
     ]
    }
   ],
   "source": [
    "# This method improves complexity of repeated subtraction\n",
    "# By efficient use of modulo operator in euclidean algorithm\n",
    "def getHCF(a, b):\n",
    "    return b == 0 and a or getHCF(b, a % b)\n",
    "\n",
    "\n",
    "num1 = -36\n",
    "num2 = 60\n",
    "\n",
    "# if user enters negative number, we just changing it to positive\n",
    "# By definition HCF is the highest positive number that divides both numbers\n",
    "# -36 & 60 : HCF = 12 (as highest num that divides both)\n",
    "# -36 & -60 : HCF = 12 (as highest num that divides both)\n",
    "num1 >= 0 and num1 or -num1\n",
    "num2 >= 0 and num2 or -num2\n",
    "\n",
    "print(\"Hcf of\", num1, \"and\", num2, \"is\", getHCF(num1, num2))"
   ]
  },
  {
   "cell_type": "markdown",
   "id": "dcda6759-a913-40ba-ba09-b0f1ad219a27",
   "metadata": {},
   "source": [
    "Write a program to convert Decimal to Binary, Octal and Hexadecimal?"
   ]
  },
  {
   "cell_type": "code",
   "execution_count": 9,
   "id": "e31f9688-ba67-4a5e-87e2-f74c1a9ed2e0",
   "metadata": {},
   "outputs": [
    {
     "name": "stdout",
     "output_type": "stream",
     "text": [
      "32  in Binary :  0b100000\n",
      "32 in Octal :  0o40\n",
      "32  in Hexadecimal :  0x20\n"
     ]
    }
   ],
   "source": [
    "# Python program to convert decimal to binary,\n",
    "# octal and hexadecimal\n",
    "\n",
    "# Function to convert decimal to binary\n",
    "def decimal_to_binary(dec):\n",
    "\tdecimal = int(dec)\n",
    "\n",
    "\t# Prints equivalent decimal\n",
    "\tprint(decimal, \" in Binary : \", bin(decimal))\n",
    "\n",
    "# Function to convert decimal to octal\n",
    "def decimal_to_octal(dec):\n",
    "\tdecimal = int(dec)\n",
    "\n",
    "\t# Prints equivalent decimal\n",
    "\tprint(decimal, \"in Octal : \", oct(decimal))\n",
    "\n",
    "# Function to convert decimal to hexadecimal\n",
    "def decimal_to_hexadecimal(dec):\n",
    "\tdecimal = int(dec)\n",
    "\n",
    "\t# Prints equivalent decimal\n",
    "\tprint(decimal, \" in Hexadecimal : \", hex(decimal))\n",
    "\n",
    "# Driver program\n",
    "dec = 32\n",
    "decimal_to_binary(dec)\n",
    "decimal_to_octal(dec)\n",
    "decimal_to_hexadecimal(dec)\n"
   ]
  },
  {
   "cell_type": "code",
   "execution_count": 17,
   "id": "63656db0-a2c8-4fc1-97c6-fd76300db83c",
   "metadata": {},
   "outputs": [
    {
     "name": "stdout",
     "output_type": "stream",
     "text": [
      "100000\n",
      "40\n",
      "20\n"
     ]
    }
   ],
   "source": [
    "i = 32\n",
    "print(format(i, 'b'))\n",
    "print(format(i, 'o'))\n",
    "print(format(i, 'x'))"
   ]
  },
  {
   "cell_type": "code",
   "execution_count": 18,
   "id": "ba980b49-4729-40cb-88df-0646dd2642e8",
   "metadata": {},
   "outputs": [
    {
     "name": "stdout",
     "output_type": "stream",
     "text": [
      "0b100000\n",
      "0o40\n",
      "0x20\n"
     ]
    }
   ],
   "source": [
    "i = 32\n",
    "print(format(i, '#b'))\n",
    "print(format(i, '#o'))\n",
    "print(format(i, '#x'))"
   ]
  },
  {
   "cell_type": "code",
   "execution_count": 23,
   "id": "2b56efd7-ef6f-4d64-8d77-8d03bfbb0ae6",
   "metadata": {},
   "outputs": [
    {
     "name": "stdout",
     "output_type": "stream",
     "text": [
      "00100000\n",
      "00000040\n",
      "00000020\n"
     ]
    }
   ],
   "source": [
    "i = 32\n",
    "print('{:08b}'.format(i))\n",
    "print('{:08o}'.format(i))\n",
    "print('{:08x}'.format(i))"
   ]
  },
  {
   "cell_type": "code",
   "execution_count": 24,
   "id": "95e6834b-bc70-4b1a-badf-a4310391941a",
   "metadata": {},
   "outputs": [
    {
     "name": "stdout",
     "output_type": "stream",
     "text": [
      "00100000\n",
      "00000040\n",
      "00000020\n"
     ]
    }
   ],
   "source": [
    "print(f'{i:08b}')\n",
    "print(f'{i:08o}')\n",
    "print(f'{i:08x}')"
   ]
  },
  {
   "cell_type": "code",
   "execution_count": 25,
   "id": "a09f3202-f1b6-4b5c-b3d0-eab0de9090a0",
   "metadata": {},
   "outputs": [
    {
     "name": "stdout",
     "output_type": "stream",
     "text": [
      "-32\n",
      "-0b100000\n"
     ]
    }
   ],
   "source": [
    "x = -32\n",
    "\n",
    "print(x)\n",
    "print(bin(x))\n",
    "# -32\n",
    "# -0b10000"
   ]
  },
  {
   "cell_type": "markdown",
   "id": "842e2383-e362-4f0c-8ada-659d3b3fac00",
   "metadata": {},
   "source": [
    "Write a program to find the ASCII value of character?"
   ]
  },
  {
   "cell_type": "code",
   "execution_count": 1,
   "id": "ebf2451b-7af2-4b05-802b-7c1ec433abfb",
   "metadata": {},
   "outputs": [
    {
     "name": "stdout",
     "output_type": "stream",
     "text": [
      "Enter a Character: \n"
     ]
    },
    {
     "name": "stdin",
     "output_type": "stream",
     "text": [
      " g\n"
     ]
    },
    {
     "name": "stdout",
     "output_type": "stream",
     "text": [
      "\n",
      "ASCII Value: 103\n"
     ]
    }
   ],
   "source": [
    "print(\"Enter a Character: \")\n",
    "ch = input()\n",
    "\n",
    "asc = ord(ch)\n",
    "print(\"\\nASCII Value:\", asc)"
   ]
  },
  {
   "cell_type": "markdown",
   "id": "4dc6a459-a0a9-4e97-86a1-f238106ad425",
   "metadata": {},
   "source": [
    "Write a program to make a simple calculatir with 4 basic maths operations?"
   ]
  },
  {
   "cell_type": "code",
   "execution_count": 2,
   "id": "c7ca2755-bae1-4f1a-83c9-87028b0dd031",
   "metadata": {},
   "outputs": [
    {
     "name": "stdout",
     "output_type": "stream",
     "text": [
      "Select operation.\n",
      "1.Add\n",
      "2.Subtract\n",
      "3.Multiply\n",
      "4.Divide\n"
     ]
    },
    {
     "name": "stdin",
     "output_type": "stream",
     "text": [
      "Enter choice(1/2/3/4):  2\n",
      "Enter first number:  4\n",
      "Enter second number:  1\n"
     ]
    },
    {
     "name": "stdout",
     "output_type": "stream",
     "text": [
      "4.0 - 1.0 = 3.0\n"
     ]
    },
    {
     "name": "stdin",
     "output_type": "stream",
     "text": [
      "Let's do next calculation? (yes/no):  no\n"
     ]
    }
   ],
   "source": [
    "# This function adds two numbers\n",
    "def add(x, y):\n",
    "    return x + y\n",
    "\n",
    "# This function subtracts two numbers\n",
    "def subtract(x, y):\n",
    "    return x - y\n",
    "\n",
    "# This function multiplies two numbers\n",
    "def multiply(x, y):\n",
    "    return x * y\n",
    "\n",
    "# This function divides two numbers\n",
    "def divide(x, y):\n",
    "    return x / y\n",
    "\n",
    "\n",
    "print(\"Select operation.\")\n",
    "print(\"1.Add\")\n",
    "print(\"2.Subtract\")\n",
    "print(\"3.Multiply\")\n",
    "print(\"4.Divide\")\n",
    "\n",
    "while True:\n",
    "    # take input from the user\n",
    "    choice = input(\"Enter choice(1/2/3/4): \")\n",
    "\n",
    "    # check if choice is one of the four options\n",
    "    if choice in ('1', '2', '3', '4'):\n",
    "        try:\n",
    "            num1 = float(input(\"Enter first number: \"))\n",
    "            num2 = float(input(\"Enter second number: \"))\n",
    "        except ValueError:\n",
    "            print(\"Invalid input. Please enter a number.\")\n",
    "            continue\n",
    "\n",
    "        if choice == '1':\n",
    "            print(num1, \"+\", num2, \"=\", add(num1, num2))\n",
    "\n",
    "        elif choice == '2':\n",
    "            print(num1, \"-\", num2, \"=\", subtract(num1, num2))\n",
    "\n",
    "        elif choice == '3':\n",
    "            print(num1, \"*\", num2, \"=\", multiply(num1, num2))\n",
    "\n",
    "        elif choice == '4':\n",
    "            print(num1, \"/\", num2, \"=\", divide(num1, num2))\n",
    "        \n",
    "        # check if user wants another calculation\n",
    "        # break the while loop if answer is no\n",
    "        next_calculation = input(\"Let's do next calculation? (yes/no): \")\n",
    "        if next_calculation == \"no\":\n",
    "          break\n",
    "    else:\n",
    "        print(\"Invalid Input\")"
   ]
  },
  {
   "cell_type": "code",
   "execution_count": null,
   "id": "7c22fd35-a753-487b-ad55-a6daeca1fec7",
   "metadata": {},
   "outputs": [],
   "source": []
  }
 ],
 "metadata": {
  "kernelspec": {
   "display_name": "Python 3 (ipykernel)",
   "language": "python",
   "name": "python3"
  },
  "language_info": {
   "codemirror_mode": {
    "name": "ipython",
    "version": 3
   },
   "file_extension": ".py",
   "mimetype": "text/x-python",
   "name": "python",
   "nbconvert_exporter": "python",
   "pygments_lexer": "ipython3",
   "version": "3.10.6"
  }
 },
 "nbformat": 4,
 "nbformat_minor": 5
}
