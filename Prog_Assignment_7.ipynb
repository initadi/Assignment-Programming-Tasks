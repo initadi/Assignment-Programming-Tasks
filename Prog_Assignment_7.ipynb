{
 "cells": [
  {
   "cell_type": "markdown",
   "id": "884148a9-d82f-463c-bcf6-b83c758e08b1",
   "metadata": {},
   "source": [
    "Write a Python program to find the sum of array?"
   ]
  },
  {
   "cell_type": "code",
   "execution_count": 1,
   "id": "d987848a-93e9-40d5-99d6-a28b2d4b76e3",
   "metadata": {},
   "outputs": [
    {
     "data": {
      "text/plain": [
       "50"
      ]
     },
     "execution_count": 1,
     "metadata": {},
     "output_type": "execute_result"
    }
   ],
   "source": [
    "def sum_ar(arr):\n",
    "    s = 0\n",
    "    for i in arr:\n",
    "        s=s+i\n",
    "    return s\n",
    "arr = {15, 12, 13, 10}\n",
    "sum_ar(arr)\n",
    "        "
   ]
  },
  {
   "cell_type": "markdown",
   "id": "5966740b-b788-42ea-b9b5-a0f4db63f96b",
   "metadata": {},
   "source": [
    "Write a Python program to find the largest element in an array?"
   ]
  },
  {
   "cell_type": "code",
   "execution_count": 2,
   "id": "3c54db3b-a86d-4bc4-bc89-fc7a192a2141",
   "metadata": {},
   "outputs": [
    {
     "name": "stdout",
     "output_type": "stream",
     "text": [
      "1\n"
     ]
    },
    {
     "data": {
      "text/plain": [
       "48"
      ]
     },
     "execution_count": 2,
     "metadata": {},
     "output_type": "execute_result"
    }
   ],
   "source": [
    "def large_ar(arr, n):\n",
    "    mx = arr[0]\n",
    "    print(mx)\n",
    "    for i in range(1, n):\n",
    "        if arr[i] > mx:\n",
    "            mx =arr[i]\n",
    "    return mx\n",
    "arr = [1, 12, 13, 10, 48]\n",
    "n = len(arr)\n",
    "large_ar(arr, n)\n",
    " "
   ]
  },
  {
   "cell_type": "markdown",
   "id": "9efea3dc-c620-45fd-be79-c0c0ac9042c5",
   "metadata": {},
   "source": [
    " Write a Python program for array rotation"
   ]
  },
  {
   "cell_type": "code",
   "execution_count": 3,
   "id": "59d0f9f0-497b-43c2-9806-6b6eaa4df832",
   "metadata": {},
   "outputs": [
    {
     "data": {
      "text/plain": [
       "[48, 10, 13, 12, 1]"
      ]
     },
     "execution_count": 3,
     "metadata": {},
     "output_type": "execute_result"
    }
   ],
   "source": [
    "arr = [1, 12, 13, 10, 48]\n",
    "\n",
    "def rev(arr):\n",
    "    new= []\n",
    "    for i in arr[::-1]:\n",
    "        new.append(i)\n",
    "    return new\n",
    "rev(arr)"
   ]
  },
  {
   "cell_type": "markdown",
   "id": "dcd2e47a-0bfd-488a-8571-275c70666adc",
   "metadata": {},
   "source": [
    "Write a Python program to split the array and add the first part to the end?"
   ]
  },
  {
   "cell_type": "code",
   "execution_count": 4,
   "id": "f4cd815f-bef1-4c03-8534-d8786b50b41d",
   "metadata": {},
   "outputs": [
    {
     "name": "stdout",
     "output_type": "stream",
     "text": [
      "13\n"
     ]
    }
   ],
   "source": [
    "arr = [1, 12, 13, 10, 48]\n",
    "def rvereseArray(arr, start, end):\n",
    "    while start < end :\n",
    "        temp = arr[start]\n",
    "        arr[start] = arr[end]\n",
    "        arr[end] =temp\n",
    "        start += 1\n",
    "        end -= 1\n",
    "n = len(arr)\n",
    "r = 0\n",
    "l = n-1\n",
    "mid = int((r + (n-1)) / 2)\n",
    "print(arr[mid])"
   ]
  },
  {
   "cell_type": "code",
   "execution_count": 7,
   "id": "c5f31b37-82ab-4d5c-b58e-a97f9ed3785f",
   "metadata": {},
   "outputs": [
    {
     "data": {
      "text/plain": [
       "[[13, 10, 48], [1, 12]]"
      ]
     },
     "execution_count": 7,
     "metadata": {},
     "output_type": "execute_result"
    }
   ],
   "source": [
    "arr = [1, 12, 13, 10, 48]\n",
    "def rurse(arr):\n",
    "    n = len(arr)\n",
    "    r = 0\n",
    "    l = n-1\n",
    "    new_arr =[]\n",
    "    for i in range(0,n):\n",
    "\n",
    "        mid = int((r + (n-1)) / 2)\n",
    "        first,sec=splitlist(arr,mid)\n",
    "        new_arr.append(sec)\n",
    "        new_arr.append(first)\n",
    "        return new_arr\n",
    "rurse(arr)"
   ]
  },
  {
   "cell_type": "code",
   "execution_count": 6,
   "id": "1d8c0c8c-3128-4d8a-9ee2-d1c500f0336b",
   "metadata": {},
   "outputs": [
    {
     "name": "stdin",
     "output_type": "stream",
     "text": [
      "Enter number of elements :  5\n",
      "Enter element 1 : 1\n",
      "Enter element 2 : 5\n",
      "Enter element 3 : 6\n",
      "Enter element 4 : 8\n",
      "Enter element 5 : 23\n"
     ]
    },
    {
     "name": "stdout",
     "output_type": "stream",
     "text": [
      "Original list:  [1, 5, 6, 8, 23]\n",
      "First half:  [1, 5]\n",
      "second half:  [6, 8, 23]\n"
     ]
    }
   ],
   "source": [
    "#function which split the list into two halves\n",
    "def splitlist(inputlist,n):\n",
    "\n",
    "  first_half=inputlist[:n]\n",
    "  sec_half=inputlist[n:]\n",
    "\n",
    "  return first_half,sec_half\n",
    "\n",
    "\n",
    "if __name__ == \"__main__\" :\n",
    "  # create an empty list\n",
    "  list1 = []\n",
    "  # Take number of elements as input from user\n",
    "  length = int(input(\"Enter number of elements : \"))\n",
    "  \n",
    "  # iinitialize the list using for loop\n",
    "  for i in range(0, length):\n",
    "    item = int(input(\"Enter element \"+str(i+1)+\" :\"))\n",
    "    list1.append(item)\n",
    "  \n",
    "  middle_index=length//2\n",
    "  first,sec=splitlist(list1,middle_index)\n",
    "  #printing lists\n",
    "  \n",
    "  print(\"Original list: \", list1)\n",
    "  print(\"First half: \", first)\n",
    "  print(\"second half: \", sec)"
   ]
  },
  {
   "cell_type": "code",
   "execution_count": 8,
   "id": "dbbfd530-7983-4066-9d24-cc7aaeaed1a7",
   "metadata": {},
   "outputs": [
    {
     "name": "stdout",
     "output_type": "stream",
     "text": [
      "5 6 52 36 12 10 "
     ]
    }
   ],
   "source": [
    "# Python3 program to Split the array\n",
    "# and add the first part to the end\n",
    "\n",
    "# Function to reverse arr[]\n",
    "# from index start to end*/\n",
    "def rvereseArray(arr, start, end):\n",
    "\twhile start < end :\n",
    "\t\ttemp = arr[start]\n",
    "\t\tarr[start] = arr[end]\n",
    "\t\tarr[end] =temp\n",
    "\t\tstart += 1\n",
    "\t\tend -= 1\n",
    "\n",
    "# Function to print an array\n",
    "def printArray(arr, n) :\n",
    "\tfor i in range(n):\n",
    "\t\tprint(arr[i], end = \" \")\n",
    "\n",
    "\n",
    "# Function to left rotate\n",
    "# arr[] of size n by k */\n",
    "def splitArr(arr, k, n):\n",
    "\trvereseArray(arr, 0, n - 1)\n",
    "\trvereseArray(arr, 0, n - k - 1)\n",
    "\trvereseArray(arr, n - k, n - 1)\n",
    "\n",
    "# Driver Code\n",
    "arr = [12, 10, 5, 6, 52, 36]\n",
    "n = len(arr)\n",
    "k = 2\n",
    "splitArr(arr, k, n)\n",
    "printArray(arr, n)\n",
    "\n",
    "\n"
   ]
  },
  {
   "cell_type": "markdown",
   "id": "0ea24dae-fdca-480e-8cc5-ba9c576f088d",
   "metadata": {},
   "source": [
    "Write a Python program to check if the given array is monotonic?"
   ]
  },
  {
   "cell_type": "code",
   "execution_count": null,
   "id": "3ea72d76-8f09-462e-bba8-df9e006499a9",
   "metadata": {},
   "outputs": [],
   "source": [
    "# Function to check array is monotonic\n",
    "def check(arr):\n",
    "    N = len(arr)\n",
    "    inc = True\n",
    "    dec = True\n",
    "     \n",
    "    # Loop to check if array is increasing\n",
    "    for i in range(0, N-1):\n",
    "       \n",
    "        # To check if array is not increasing\n",
    "        if arr[i] > arr[i+1]:\n",
    "            inc = False\n",
    " \n",
    "    # Loop to check if array is decreasing\n",
    "    for i in range(0, N-1):\n",
    "       \n",
    "       # To check if array is not decreasing\n",
    "        if arr[i] < arr[i+1]:\n",
    "            dec = False\n",
    " \n",
    "    # Pick one whether inc or dec\n",
    "    return inc or dec\n",
    "# Driver code\n",
    "if __name__ == \"__main__\":\n",
    "    arr = [1, 8, 3, 3]\n",
    " \n",
    "    # Function call\n",
    "    ans = check(arr)\n",
    "    if ans == True:\n",
    "        print(\"Yes\")\n",
    "    else:\n",
    "        print(\"No\")"
   ]
  },
  {
   "cell_type": "code",
   "execution_count": null,
   "id": "bcae097c-2755-4721-8419-cee34f50f49a",
   "metadata": {},
   "outputs": [],
   "source": []
  }
 ],
 "metadata": {
  "kernelspec": {
   "display_name": "Python 3 (ipykernel)",
   "language": "python",
   "name": "python3"
  },
  "language_info": {
   "codemirror_mode": {
    "name": "ipython",
    "version": 3
   },
   "file_extension": ".py",
   "mimetype": "text/x-python",
   "name": "python",
   "nbconvert_exporter": "python",
   "pygments_lexer": "ipython3",
   "version": "3.10.6"
  }
 },
 "nbformat": 4,
 "nbformat_minor": 5
}
