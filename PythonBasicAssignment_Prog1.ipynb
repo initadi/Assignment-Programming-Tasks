{
 "cells": [
  {
   "cell_type": "markdown",
   "id": "885fe4a9-6f7f-43ef-979c-52448a41ef25",
   "metadata": {},
   "source": [
    "<b>Python Basics Programming Assignment-1</b>"
   ]
  },
  {
   "cell_type": "markdown",
   "id": "4459efd0-efcc-42a9-96f2-63831430a842",
   "metadata": {},
   "source": [
    "1. Write a Python program to print \"Hello Python\"?\n",
    "2. Write a Python program to do arithmetical operations addition and division.?\n",
    "3. Write a Python program to find the area of a triangle?\n",
    "4. Write a Python program to swap two variables?\n",
    "5. Write a Python program to generate a random number?"
   ]
  },
  {
   "cell_type": "code",
   "execution_count": 18,
   "id": "16e95061-6852-4145-8116-ec95fdf80067",
   "metadata": {},
   "outputs": [
    {
     "name": "stdout",
     "output_type": "stream",
     "text": [
      "\"Hello Python\"\n"
     ]
    }
   ],
   "source": [
    "print('\"Hello Python\"')"
   ]
  },
  {
   "cell_type": "code",
   "execution_count": 7,
   "id": "0c8b914d-97a5-4213-b2a5-9f01140fd7b0",
   "metadata": {},
   "outputs": [],
   "source": [
    "def sum():\n",
    "    a = float(input(\"Put first value:\"))\n",
    "    b = float(input(\"Put second value:\"))\n",
    "    return a+b\n",
    "def div():\n",
    "    a = float(input(\"Put first value:\"))\n",
    "    b = float(input(\"Put second value:\"))\n",
    "    return a/b        "
   ]
  },
  {
   "cell_type": "code",
   "execution_count": 8,
   "id": "32eb38d5-ab46-4494-99c3-f0e34a3a7b3a",
   "metadata": {},
   "outputs": [
    {
     "name": "stdin",
     "output_type": "stream",
     "text": [
      "Put first value: 4.5\n",
      "Put second value: 5.5\n"
     ]
    },
    {
     "data": {
      "text/plain": [
       "10.0"
      ]
     },
     "execution_count": 8,
     "metadata": {},
     "output_type": "execute_result"
    }
   ],
   "source": [
    "sum()"
   ]
  },
  {
   "cell_type": "code",
   "execution_count": 9,
   "id": "b23c8df6-823a-4588-a584-c5f4c766e54c",
   "metadata": {},
   "outputs": [
    {
     "name": "stdin",
     "output_type": "stream",
     "text": [
      "Put first value: 3.2\n",
      "Put second value: 8\n"
     ]
    },
    {
     "data": {
      "text/plain": [
       "0.4"
      ]
     },
     "execution_count": 9,
     "metadata": {},
     "output_type": "execute_result"
    }
   ],
   "source": [
    "div()"
   ]
  },
  {
   "cell_type": "code",
   "execution_count": 10,
   "id": "ece19f9f-bfd4-4ee0-a742-cc955907d147",
   "metadata": {},
   "outputs": [
    {
     "name": "stdin",
     "output_type": "stream",
     "text": [
      "Put height: 4\n",
      "Put base: 5\n"
     ]
    },
    {
     "data": {
      "text/plain": [
       "10.0"
      ]
     },
     "execution_count": 10,
     "metadata": {},
     "output_type": "execute_result"
    }
   ],
   "source": [
    "#Area of triangle\n",
    "def Area():\n",
    "    a = float(input(\"Put height:\"))\n",
    "    b = float(input(\"Put base:\"))\n",
    "    return (0.5 * a * b)\n",
    "Area()\n",
    "    "
   ]
  },
  {
   "cell_type": "code",
   "execution_count": 11,
   "id": "d4c5e1fb-1ccc-448a-b010-5a6f8acd8418",
   "metadata": {},
   "outputs": [
    {
     "data": {
      "text/plain": [
       "('jay', 'viru')"
      ]
     },
     "execution_count": 11,
     "metadata": {},
     "output_type": "execute_result"
    }
   ],
   "source": [
    "#Swap two variables\n",
    "#1. Using temp variable\n",
    "def swap():\n",
    "    a = \"viru\"\n",
    "    b = \"jay\"\n",
    "    temp = a\n",
    "    a = b\n",
    "    b = temp\n",
    "    return a, b\n",
    "swap()"
   ]
  },
  {
   "cell_type": "code",
   "execution_count": 12,
   "id": "4cd9304a-140a-4911-9f74-540a7a9a4371",
   "metadata": {},
   "outputs": [
    {
     "name": "stdout",
     "output_type": "stream",
     "text": [
      "Value of a is: {'jay'}\n",
      "Value of a is: {'viru'}\n"
     ]
    }
   ],
   "source": [
    "#Swap two variables\n",
    "def swap():\n",
    "    a = \"viru\"\n",
    "    b = \"jay\"\n",
    "    a,b = b,a\n",
    "    print(f\"Value of a is:\", {a})\n",
    "    print(f\"Value of a is:\", {b})\n",
    "swap()"
   ]
  },
  {
   "cell_type": "markdown",
   "id": "8ef019fb-2590-4044-9d22-543b941a80f5",
   "metadata": {},
   "source": [
    "<b>Methods to generate Random numbers in Python</b>\n",
    "1. random()\n",
    "2. randint()\n",
    "3. sample()\n",
    "4. choice()\n",
    "5. randrange()\n",
    "6. uniform()\n",
    "7. shuffle()\n",
    "8. seed()"
   ]
  },
  {
   "cell_type": "code",
   "execution_count": 14,
   "id": "5014d4b1-9ffe-46ac-9d6d-4b5d353b9437",
   "metadata": {},
   "outputs": [
    {
     "name": "stdout",
     "output_type": "stream",
     "text": [
      "7\n"
     ]
    }
   ],
   "source": [
    "import random\n",
    "print(random.randint(0,20))"
   ]
  },
  {
   "cell_type": "code",
   "execution_count": 15,
   "id": "3688e2a6-77f6-41da-9368-c61abea66415",
   "metadata": {},
   "outputs": [
    {
     "name": "stdout",
     "output_type": "stream",
     "text": [
      "0.12004890397237455\n"
     ]
    }
   ],
   "source": [
    "import random\n",
    "n = random.random()\n",
    "print(n)"
   ]
  },
  {
   "cell_type": "code",
   "execution_count": 16,
   "id": "686e6218-3bb5-412a-a55a-1fd000534def",
   "metadata": {},
   "outputs": [
    {
     "name": "stdout",
     "output_type": "stream",
     "text": [
      "7.951310659983385\n"
     ]
    }
   ],
   "source": [
    "import random\n",
    "m = random.uniform(0,10)\n",
    "print(m)"
   ]
  },
  {
   "cell_type": "code",
   "execution_count": null,
   "id": "7f8cdfc7-87b3-4eb8-a3e9-cc82d169b84e",
   "metadata": {},
   "outputs": [],
   "source": []
  }
 ],
 "metadata": {
  "kernelspec": {
   "display_name": "Python 3 (ipykernel)",
   "language": "python",
   "name": "python3"
  },
  "language_info": {
   "codemirror_mode": {
    "name": "ipython",
    "version": 3
   },
   "file_extension": ".py",
   "mimetype": "text/x-python",
   "name": "python",
   "nbconvert_exporter": "python",
   "pygments_lexer": "ipython3",
   "version": "3.10.8"
  }
 },
 "nbformat": 4,
 "nbformat_minor": 5
}
