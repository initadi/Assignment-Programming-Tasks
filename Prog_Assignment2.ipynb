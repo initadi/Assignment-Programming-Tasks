{
 "cells": [
  {
   "cell_type": "markdown",
   "id": "ca3693fa-1e71-42a6-95dc-e2bbf5ff962c",
   "metadata": {},
   "source": [
    "# Write a Python program to convert kilometers to miles?"
   ]
  },
  {
   "cell_type": "code",
   "execution_count": 8,
   "id": "3c28378c-6b32-4154-92ba-4f3aec48b246",
   "metadata": {},
   "outputs": [
    {
     "name": "stdin",
     "output_type": "stream",
     "text": [
      "Input value in km to be converted to miles:  1\n"
     ]
    },
    {
     "name": "stdout",
     "output_type": "stream",
     "text": [
      "The converted value of km to mile is: 0.621371\n"
     ]
    },
    {
     "name": "stdin",
     "output_type": "stream",
     "text": [
      "Input value in miles to be converted to km:  1\n"
     ]
    },
    {
     "name": "stdout",
     "output_type": "stream",
     "text": [
      "The converted value of mile to km is: 1.6093444978925633\n"
     ]
    }
   ],
   "source": [
    "def km_to_miles(km):\n",
    "    Multiply_factor = 0.621371\n",
    "    mile = km * Multiply_factor\n",
    "    return mile\n",
    "km = float(input (\"Input value in km to be converted to miles: \"))\n",
    "print(\"The converted value of km to mile is:\", km_to_miles(km))\n",
    "\n",
    "\n",
    "def miles_to_km(miles):\n",
    "    Multiply_factor = 0.621371\n",
    "    km = 1/ Multiply_factor\n",
    "    return km\n",
    "miles = float(input (\"Input value in miles to be converted to km: \"))\n",
    "print(\"The converted value of mile to km is:\", miles_to_km(miles))\n"
   ]
  },
  {
   "cell_type": "markdown",
   "id": "69314ee5-fd1a-4880-bb8f-329504b55adb",
   "metadata": {},
   "source": [
    "# Write a Python program to convert Celsius to Fahrenheit?"
   ]
  },
  {
   "cell_type": "code",
   "execution_count": 13,
   "id": "6d842cb2-d8b1-491d-97ac-dec8120316c5",
   "metadata": {},
   "outputs": [
    {
     "name": "stdin",
     "output_type": "stream",
     "text": [
      "Input value in Celcius to be converted to Farenheit:  1\n"
     ]
    },
    {
     "name": "stdout",
     "output_type": "stream",
     "text": [
      "The converted value of Celcius to Farenhei is: 33.8\n"
     ]
    }
   ],
   "source": [
    "def CtoF(C):\n",
    "    Multiply_factor =33.8\n",
    "    F = C * Multiply_factor\n",
    "    return F\n",
    "C = float(input (\"Input value in Celcius to be converted to Farenheit: \",))\n",
    "print(\"The converted value of Celcius to Farenhei is:\", CtoF(C))\n",
    "\n",
    "\n"
   ]
  },
  {
   "cell_type": "markdown",
   "id": "0f778110-8305-4ff1-8668-91321c05d32b",
   "metadata": {},
   "source": [
    "# Write a Python program to display calendar?"
   ]
  },
  {
   "cell_type": "code",
   "execution_count": 21,
   "id": "7b10cbe0-1cba-4bea-8aec-b5f902c9006d",
   "metadata": {},
   "outputs": [
    {
     "name": "stdin",
     "output_type": "stream",
     "text": [
      "Enter the year: 2023\n",
      "Enter the month: 05\n"
     ]
    },
    {
     "name": "stdout",
     "output_type": "stream",
     "text": [
      "      May 2023\n",
      "Mo Tu We Th Fr Sa Su\n",
      " 1  2  3  4  5  6  7\n",
      " 8  9 10 11 12 13 14\n",
      "15 16 17 18 19 20 21\n",
      "22 23 24 25 26 27 28\n",
      "29 30 31\n",
      "\n"
     ]
    }
   ],
   "source": [
    "import calendar\n",
    "year = int(input(\"Enter the year:\"))\n",
    "month = int(input(\"Enter the month:\"))\n",
    "print(calendar.month(year, month))\n"
   ]
  },
  {
   "cell_type": "markdown",
   "id": "821563a3-bd9f-431e-9f6e-d5860bce7998",
   "metadata": {},
   "source": [
    "# Write a Python program to solve quadratic equation?\n",
    "## x = (−b ± √(b2 − 4ac)) / 2a"
   ]
  },
  {
   "cell_type": "code",
   "execution_count": 1,
   "id": "0d7c4c8b-d963-4f4d-a76e-d74af65d8eb7",
   "metadata": {},
   "outputs": [
    {
     "name": "stdout",
     "output_type": "stream",
     "text": [
      "The Quadratic Equation is of form ax2 + bx+ c\n",
      "\n"
     ]
    },
    {
     "name": "stdin",
     "output_type": "stream",
     "text": [
      "Enter the value of a:  2\n",
      "Enter the value of b:  4\n",
      "Enter the value of c:  6\n"
     ]
    },
    {
     "name": "stdout",
     "output_type": "stream",
     "text": [
      "The roots are: \n",
      "(-1-1.4142135623730951j)\n",
      "(-1+1.4142135623730951j)\n"
     ]
    }
   ],
   "source": [
    "#Python program to solve quadratic equation using math module\n",
    "import cmath\n",
    "print(\"The Quadratic Equation is of form ax2 + bx+ c\\n\")  \n",
    "a = int(input(\"Enter the value of a: \"))\n",
    "b = int(input(\"Enter the value of b: \"))\n",
    "c = int(input(\"Enter the value of c: \"))\n",
    "  \n",
    "# Computing the Discriminat value\n",
    "D = (b**2) - (4*a*c)\n",
    "  \n",
    "# find two results\n",
    "root1 = (-b - cmath.sqrt(D))/(2 * a)\n",
    "root2 = (-b + cmath.sqrt(D))/(2 * a)\n",
    "  \n",
    "# printing the results\n",
    "print(\"The roots are: \")\n",
    "print(root1)\n",
    "print(root2)"
   ]
  },
  {
   "cell_type": "markdown",
   "id": "f56a49b1-a953-4a9b-b40b-6ef8a9681366",
   "metadata": {},
   "source": [
    "# Write a Python program to swap two variables without temp variable?"
   ]
  },
  {
   "cell_type": "code",
   "execution_count": 4,
   "id": "c7c525d6-a9a2-49f1-968f-2e2a9a520ba2",
   "metadata": {},
   "outputs": [
    {
     "name": "stdout",
     "output_type": "stream",
     "text": [
      "Value of a: 58\n",
      "Value of b: 24\n",
      "Value of x: 58\n",
      "Value of y: 24\n"
     ]
    }
   ],
   "source": [
    "a = 24\n",
    "b = 58\n",
    "\n",
    "# Swapping of two variables\n",
    "# without using third variable\n",
    "a, b = b, a\n",
    "\n",
    "print(\"Value of a:\", a)\n",
    "print(\"Value of b:\", b)\n",
    "\n",
    "#By arithmetic\n",
    "\n",
    "x = 24\n",
    "y = 58\n",
    " \n",
    "# Swapping of two variables\n",
    "# using arithmetic operations\n",
    "x = x + y  \n",
    "y = x - y \n",
    "x = x - y\n",
    " \n",
    "print(\"Value of x:\", x)\n",
    "print(\"Value of y:\", y)"
   ]
  },
  {
   "cell_type": "code",
   "execution_count": null,
   "id": "d6d3efae-ab64-4a9f-aebd-992890d50635",
   "metadata": {},
   "outputs": [],
   "source": []
  }
 ],
 "metadata": {
  "kernelspec": {
   "display_name": "Python 3 (ipykernel)",
   "language": "python",
   "name": "python3"
  },
  "language_info": {
   "codemirror_mode": {
    "name": "ipython",
    "version": 3
   },
   "file_extension": ".py",
   "mimetype": "text/x-python",
   "name": "python",
   "nbconvert_exporter": "python",
   "pygments_lexer": "ipython3",
   "version": "3.10.6"
  }
 },
 "nbformat": 4,
 "nbformat_minor": 5
}
