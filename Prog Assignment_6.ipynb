{
 "cells": [
  {
   "cell_type": "markdown",
   "id": "7df741b0-3bbb-489d-bf7a-aaefdefb4216",
   "metadata": {},
   "source": [
    "Write a program to display Fibonaaci sequence using Recursion?"
   ]
  },
  {
   "cell_type": "code",
   "execution_count": 9,
   "id": "e286994d-e8fa-4587-999f-bd56693bd3cb",
   "metadata": {},
   "outputs": [
    {
     "name": "stdout",
     "output_type": "stream",
     "text": [
      "Fibonacci series:\n",
      "0\n",
      "1\n",
      "1\n",
      "2\n",
      "3\n",
      "5\n",
      "8\n",
      "13\n",
      "21\n",
      "34\n"
     ]
    },
    {
     "data": {
      "text/plain": [
       "55"
      ]
     },
     "execution_count": 9,
     "metadata": {},
     "output_type": "execute_result"
    }
   ],
   "source": [
    "# Program to print the fibonacci series upto n_terms\n",
    "\n",
    "# Recursive function\n",
    "def recursive_fibonacci(n):\n",
    "    if n <= 1:\n",
    "        return n\n",
    "    else:\n",
    "        return(recursive_fibonacci(n-1) + recursive_fibonacci(n-2))\n",
    "\n",
    "n_terms = 10\n",
    "\n",
    "    # check if the number of terms is valid\n",
    "if n_terms <= 0:\n",
    "        print(\"Invalid input ! Please input a positive value\")\n",
    "else:\n",
    "        print(\"Fibonacci series:\")\n",
    "for i in range(n_terms):\n",
    "    print(recursive_fibonacci(i))\n",
    "\n",
    "recursive_fibonacci(10)\n"
   ]
  },
  {
   "cell_type": "code",
   "execution_count": 20,
   "id": "a5624219-74b9-4a2d-abc8-8c9875aa5d8f",
   "metadata": {},
   "outputs": [
    {
     "name": "stdout",
     "output_type": "stream",
     "text": [
      "[0, 1, 1, 2, 3, 5, 8, 13, 21, 34, 55]\n"
     ]
    }
   ],
   "source": [
    "# Fibonacci Series using Dynamic Programming\n",
    "def fibonacci(n):\n",
    "     \n",
    "    # Taking 1st two fibonacci numbers as 0 and 1\n",
    "    f = [0, 1]\n",
    "     \n",
    "     \n",
    "    for i in range(2, n+1):\n",
    "        f.append(f[i-1] + f[i-2])\n",
    "    return f\n",
    "     \n",
    "print(fibonacci(10))"
   ]
  },
  {
   "cell_type": "code",
   "execution_count": 3,
   "id": "8e99e504-bc3e-406e-8dee-787b7ea76bac",
   "metadata": {},
   "outputs": [
    {
     "name": "stdout",
     "output_type": "stream",
     "text": [
      "Fibonacci sequence:\n",
      "0\n",
      "1\n",
      "1\n",
      "2\n",
      "3\n",
      "5\n",
      "8\n",
      "13\n",
      "21\n",
      "34\n"
     ]
    },
    {
     "data": {
      "text/plain": [
       "55"
      ]
     },
     "execution_count": 3,
     "metadata": {},
     "output_type": "execute_result"
    }
   ],
   "source": [
    "# Python program to display the Fibonacci sequence\n",
    "\n",
    "def recur_fibo(n):\n",
    "    if n <= 1:\n",
    "        return n\n",
    "    else:\n",
    "        return(recur_fibo(n-1) + recur_fibo(n-2))\n",
    "\n",
    "nterms = 10\n",
    "\n",
    "# check if the number of terms is valid\n",
    "if nterms <= 0:\n",
    "    print(\"Plese enter a positive integer\")\n",
    "else:\n",
    "    print(\"Fibonacci sequence:\")\n",
    "    for i in range(nterms):\n",
    "        print(recur_fibo(i))\n",
    "\n",
    "        \n",
    "recur_fibo(10)\n"
   ]
  },
  {
   "cell_type": "markdown",
   "id": "1f54633d-8c68-44db-943a-09602dec3bf1",
   "metadata": {},
   "source": [
    "Write a program to find factorial of number using Recursion?"
   ]
  },
  {
   "cell_type": "code",
   "execution_count": 4,
   "id": "869713e2-6f4d-48f1-8b45-f0a493629599",
   "metadata": {},
   "outputs": [
    {
     "name": "stdout",
     "output_type": "stream",
     "text": [
      "The factorial of 7 is 5040\n"
     ]
    }
   ],
   "source": [
    "# Factorial of a number using recursion\n",
    "\n",
    "def recur_factorial(n):\n",
    "   if n == 1:\n",
    "       return n\n",
    "   else:\n",
    "       return n*recur_factorial(n-1)\n",
    "\n",
    "num = 7\n",
    "\n",
    "# check if the number is negative\n",
    "if num < 0:\n",
    "   print(\"Sorry, factorial does not exist for negative numbers\")\n",
    "elif num == 0:\n",
    "   print(\"The factorial of 0 is 1\")\n",
    "else:\n",
    "   print(\"The factorial of\", num, \"is\", recur_factorial(num))\n"
   ]
  },
  {
   "cell_type": "markdown",
   "id": "47565ce3-15e1-4c78-a405-d206b77c537f",
   "metadata": {},
   "source": [
    "Write a Python program to calculate the natural log of any number?"
   ]
  },
  {
   "cell_type": "code",
   "execution_count": 5,
   "id": "b9676143-bdd6-4777-8b57-28043f153b20",
   "metadata": {},
   "outputs": [
    {
     "name": "stdin",
     "output_type": "stream",
     "text": [
      "Enter the number:  5\n"
     ]
    },
    {
     "name": "stdout",
     "output_type": "stream",
     "text": [
      "The value is: 1.6094379124341003\n"
     ]
    }
   ],
   "source": [
    "import math\n",
    "\n",
    "number = int(input(\"Enter the number: \"))\n",
    "\n",
    "ans = math.log(number)\n",
    "\n",
    "print(\"The value is:\",ans)"
   ]
  },
  {
   "cell_type": "markdown",
   "id": "56643bb7-5786-49a6-8eb3-dea265143a68",
   "metadata": {},
   "source": [
    "Write a Python program for cube sum of first n natural numbers?"
   ]
  },
  {
   "cell_type": "code",
   "execution_count": 6,
   "id": "603ad8ff-dbd0-44ea-b358-16de03302c0b",
   "metadata": {},
   "outputs": [
    {
     "name": "stdout",
     "output_type": "stream",
     "text": [
      "225\n"
     ]
    }
   ],
   "source": [
    "# Simple Python program to find sum of series\n",
    "# with cubes of first n natural numbers\n",
    "\n",
    "# Returns the sum of series\n",
    "def sumOfSeries(n):\n",
    "\tsum = 0\n",
    "\tfor i in range(1, n+1):\n",
    "\t\tsum +=pow(i,3)\n",
    "\t\t\n",
    "\treturn sum\n",
    "\n",
    "\n",
    "# Driver Function\n",
    "n = 5\n",
    "print(sumOfSeries(n))\n",
    "\n",
    "# Code Contributed by Lokesh Sharma;\n"
   ]
  },
  {
   "cell_type": "code",
   "execution_count": null,
   "id": "f3bb75a5-3bbe-4a41-a0fc-917fee1b4c06",
   "metadata": {},
   "outputs": [],
   "source": []
  }
 ],
 "metadata": {
  "kernelspec": {
   "display_name": "Python 3 (ipykernel)",
   "language": "python",
   "name": "python3"
  },
  "language_info": {
   "codemirror_mode": {
    "name": "ipython",
    "version": 3
   },
   "file_extension": ".py",
   "mimetype": "text/x-python",
   "name": "python",
   "nbconvert_exporter": "python",
   "pygments_lexer": "ipython3",
   "version": "3.10.6"
  }
 },
 "nbformat": 4,
 "nbformat_minor": 5
}
